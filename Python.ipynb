{
  "nbformat": 4,
  "nbformat_minor": 0,
  "metadata": {
    "colab": {
      "provenance": [],
      "authorship_tag": "ABX9TyOeKQwgqV1/RfGvhXn8WcTW",
      "include_colab_link": true
    },
    "kernelspec": {
      "name": "python3",
      "display_name": "Python 3"
    },
    "language_info": {
      "name": "python"
    }
  },
  "cells": [
    {
      "cell_type": "markdown",
      "metadata": {
        "id": "view-in-github",
        "colab_type": "text"
      },
      "source": [
        "<a href=\"https://colab.research.google.com/github/Kiruthika753/Python/blob/main/Python.ipynb\" target=\"_parent\"><img src=\"https://colab.research.google.com/assets/colab-badge.svg\" alt=\"Open In Colab\"/></a>"
      ]
    },
    {
      "cell_type": "markdown",
      "source": [
        "***Create a Dataframe***"
      ],
      "metadata": {
        "id": "lYuPwcfqlXMS"
      }
    },
    {
      "cell_type": "code",
      "execution_count": null,
      "metadata": {
        "colab": {
          "base_uri": "https://localhost:8080/"
        },
        "id": "bzI5t16djfHT",
        "outputId": "c65e70cc-9450-425b-f074-927b0f410c82"
      },
      "outputs": [
        {
          "output_type": "stream",
          "name": "stdout",
          "text": [
            "    Name  Age     Branches Institutes Location  PassingOut  Semester_Fees\n",
            "0   John   20          CSE       SIST  Chennai        2021            400\n",
            "1   Jeni   21  CSE with ML        VIT   Mumbai        2022            500\n",
            "2  Peter   18          ECE        MIT       AP        2023            600\n",
            "3   Sofi   22           IT        SRM    Delhi        2024            700\n"
          ]
        }
      ],
      "source": [
        "import pandas as pd\n",
        "df = pd.DataFrame(\n",
        "{\n",
        " \"Name\":[\"John\",\"Jeni\",\"Peter\",\"Sofi\"],\n",
        " \"Age\": [20,21,18,22]\n",
        "}\n",
        ")\n",
        "#print(df)\n",
        "#Adding new column using Series\n",
        "Branch = pd.Series([\"CSE\",\"CSE with ML\",\"ECE\",\"IT\"],name=\"dept\")\n",
        "df[\"Branches\"]=Branch\n",
        "\n",
        "#Adding new column using list\n",
        "Institute=[\"SIST\",\"VIT\",\"MIT\",\"SRM\"]\n",
        "df[\"Institutes\"]=Institute\n",
        "\n",
        "#Adding new column using insert method\n",
        "df.insert(4, \"Location\", [\"Chennai\",\"Mumbai\",\"AP\",\"Delhi\"], True)\n",
        "\n",
        "#Addding new column using DataFrame.assign()\n",
        "df1=df.assign(PassingOut=[2021,2022,2023,2024])\n",
        "Fee=[400,500,600,700]\n",
        "df1[\"Semester_Fees\"]=Fee\n",
        "\n",
        "\n",
        "print(df1)"
      ]
    },
    {
      "cell_type": "markdown",
      "source": [
        "Data Manipulation"
      ],
      "metadata": {
        "id": "bZMk9RbmuTHd"
      }
    },
    {
      "cell_type": "code",
      "source": [
        "import pandas as pd\n",
        "df=pd.read_csv(\"/content/diabetes.csv\",index_col=0)\n",
        "print(df.head(10))\n",
        "#print(df.tail(10))\n",
        "print(df.columns)\n",
        "#Summary of Data Set\n",
        "#print(df.info())\n",
        "\n",
        "#Statistical Summary of Data Set\n",
        "#print(df.describe())\n",
        "\n",
        "#length of Dataset54854851544844848484884444\n",
        "#print(len(df))\n",
        "\n",
        "#DAta types of Data Set\n",
        "#print(\"Data type for average salary:\",df.avg_salary.dtypes)\n"
      ],
      "metadata": {
        "colab": {
          "base_uri": "https://localhost:8080/"
        },
        "id": "jtd5EKXesTX5",
        "outputId": "0b1836b7-9ef2-41fd-f35e-85c252a82bc9"
      },
      "execution_count": null,
      "outputs": [
        {
          "output_type": "stream",
          "name": "stdout",
          "text": [
            "             Glucose  BloodPressure  SkinThickness  Insulin   BMI  \\\n",
            "Pregnancies                                                         \n",
            "6                148             72             35        0  33.6   \n",
            "1                 85             66             29        0  26.6   \n",
            "8                183             64              0        0  23.3   \n",
            "1                 89             66             23       94  28.1   \n",
            "0                137             40             35      168  43.1   \n",
            "5                116             74              0        0  25.6   \n",
            "3                 78             50             32       88  31.0   \n",
            "10               115              0              0        0  35.3   \n",
            "2                197             70             45      543  30.5   \n",
            "8                125             96              0        0   0.0   \n",
            "\n",
            "             DiabetesPedigreeFunction  Age  Outcome  \n",
            "Pregnancies                                          \n",
            "6                               0.627   50        1  \n",
            "1                               0.351   31        0  \n",
            "8                               0.672   32        1  \n",
            "1                               0.167   21        0  \n",
            "0                               2.288   33        1  \n",
            "5                               0.201   30        0  \n",
            "3                               0.248   26        1  \n",
            "10                              0.134   29        0  \n",
            "2                               0.158   53        1  \n",
            "8                               0.232   54        1  \n",
            "Index(['Glucose', 'BloodPressure', 'SkinThickness', 'Insulin', 'BMI',\n",
            "       'DiabetesPedigreeFunction', 'Age', 'Outcome'],\n",
            "      dtype='object')\n"
          ]
        }
      ]
    }
  ]
}